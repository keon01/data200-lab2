{
 "cells": [
  {
   "cell_type": "code",
   "execution_count": 1,
   "id": "803f9685",
   "metadata": {},
   "outputs": [],
   "source": [
    "import pickle\n",
    "import csv\n",
    "\n",
    "with open(\"stock_data.pkl\", \"rb\") as file:\n",
    "    stock_list = pickle.load(file)"
   ]
  },
  {
   "cell_type": "code",
   "execution_count": 2,
   "id": "599df40e",
   "metadata": {},
   "outputs": [],
   "source": [
    "def export_to_csv(stock_list, symbol):\n",
    "    for stock in stock_list:\n",
    "        if stock.symbol.lower() == symbol.lower():\n",
    "            filename = f\"{symbol.lower()}_data.csv\"\n",
    "            with open(filename, \"w\", newline=\"\") as f:\n",
    "                writer = csv.writer(f)\n",
    "                writer.writerow([\"Date\", \"Price\", \"Volume\"])\n",
    "                for day in stock.DataList:\n",
    "                    writer.writerow([day.date.strftime(\"%Y-%m-%d\"), day.close, day.volume])\n",
    "            print(f\"Data exported to {filename}\")\n",
    "            return\n",
    "    print(\"Stock not found.\")"
   ]
  },
  {
   "cell_type": "code",
   "execution_count": 3,
   "id": "e3d95856",
   "metadata": {},
   "outputs": [
    {
     "name": "stdout",
     "output_type": "stream",
     "text": [
      "Data exported to aapl_data.csv\n"
     ]
    }
   ],
   "source": [
    "export_to_csv(stock_list, \"AAPL\")"
   ]
  }
 ],
 "metadata": {
  "kernelspec": {
   "display_name": "Python 3 (ipykernel)",
   "language": "python",
   "name": "python3"
  },
  "language_info": {
   "codemirror_mode": {
    "name": "ipython",
    "version": 3
   },
   "file_extension": ".py",
   "mimetype": "text/x-python",
   "name": "python",
   "nbconvert_exporter": "python",
   "pygments_lexer": "ipython3",
   "version": "3.9.13"
  }
 },
 "nbformat": 4,
 "nbformat_minor": 5
}
